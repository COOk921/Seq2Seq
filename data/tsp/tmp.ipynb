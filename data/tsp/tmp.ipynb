{
 "cells": [
  {
   "cell_type": "markdown",
   "metadata": {},
   "source": [
    "## 将xlsx数据转为pt文件"
   ]
  },
  {
   "cell_type": "code",
   "execution_count": null,
   "metadata": {},
   "outputs": [],
   "source": [
    "import torch\n",
    "import pandas as pd\n",
    "\n",
    "data_path = './tspData.csv'\n",
    "\n",
    "# 读取csv文件\n",
    "data = pd.read_csv(data_path)\n",
    "df = data\n",
    "df.head(10)"
   ]
  },
  {
   "cell_type": "code",
   "execution_count": 3,
   "metadata": {},
   "outputs": [
    {
     "name": "stdout",
     "output_type": "stream",
     "text": [
      "结果的形状： (20000, 15, 2)\n"
     ]
    },
    {
     "data": {
      "text/plain": [
       "array([[372, 275],\n",
       "       [229, 290],\n",
       "       [100, 254],\n",
       "       [133,  27],\n",
       "       [297, 260],\n",
       "       [ 56, 179],\n",
       "       [208, 237],\n",
       "       [130, 154],\n",
       "       [ 14, 199],\n",
       "       [141,  75],\n",
       "       [155,  17],\n",
       "       [159, 266],\n",
       "       [215, 299],\n",
       "       [ 24, 121],\n",
       "       [ 59,  25]], dtype=int64)"
      ]
     },
     "execution_count": 3,
     "metadata": {},
     "output_type": "execute_result"
    }
   ],
   "source": [
    "import numpy as np\n",
    "\n",
    "X_columns = [f'X_{i}' for i in range(15)]\n",
    "Y_columns = [f'Y_{i}' for i in range(15)]\n",
    "X_data = df[X_columns].values\n",
    "Y_data = df[Y_columns].values\n",
    "\n",
    "input = np.stack([X_data, Y_data], axis=2)\n",
    "\n",
    "print('结果的形状：', input.shape)\n",
    "input[0]"
   ]
  },
  {
   "cell_type": "code",
   "execution_count": 4,
   "metadata": {},
   "outputs": [
    {
     "name": "stdout",
     "output_type": "stream",
     "text": [
      "[[ 0  1 12 ...  7  6  4]\n",
      " [ 0 11 14 ...  3  6  4]\n",
      " [ 0 12  5 ...  7 13 11]\n",
      " ...\n",
      " [ 0 13  2 ...  8  6  9]\n",
      " [ 0 13  2 ... 14  1  8]\n",
      " [ 0 13  2 ...  4  9  6]]\n"
     ]
    }
   ],
   "source": [
    "sol_data = df['sol']\n",
    "processed_sol = []\n",
    "\n",
    "for sol in sol_data:\n",
    "    # 按'-'分割字符串，并去除最后一个元素（因为最后一个是回到起点的0）\n",
    "    cities = sol.split('-')[:-1]\n",
    "    # 将城市编号转换为整数\n",
    "    cities = list(map(int, cities))\n",
    "    processed_sol.append(cities)\n",
    "\n",
    "# 将列表转换为numpy数组并重塑形状\n",
    "label = np.array(processed_sol)\n",
    "print(label)"
   ]
  },
  {
   "cell_type": "code",
   "execution_count": 5,
   "metadata": {},
   "outputs": [
    {
     "name": "stdout",
     "output_type": "stream",
     "text": [
      "torch.Size([20000, 15, 2])\n",
      "torch.Size([20000, 15])\n"
     ]
    }
   ],
   "source": [
    "input_tensor = torch.tensor(input, dtype=torch.float32)\n",
    "label_tensor = torch.tensor(label, dtype=torch.long)\n",
    "\n",
    "print(input_tensor.shape)\n",
    "print(label_tensor.shape)\n",
    "\n",
    "\n",
    "torch.save({\n",
    "    'input': input_tensor,\n",
    "    'label': label_tensor\n",
    "}, 'tsp_data.pt')\n"
   ]
  },
  {
   "cell_type": "code",
   "execution_count": null,
   "metadata": {},
   "outputs": [],
   "source": []
  }
 ],
 "metadata": {
  "kernelspec": {
   "display_name": "venv",
   "language": "python",
   "name": "python3"
  },
  "language_info": {
   "codemirror_mode": {
    "name": "ipython",
    "version": 3
   },
   "file_extension": ".py",
   "mimetype": "text/x-python",
   "name": "python",
   "nbconvert_exporter": "python",
   "pygments_lexer": "ipython3",
   "version": "3.9.6"
  }
 },
 "nbformat": 4,
 "nbformat_minor": 2
}
